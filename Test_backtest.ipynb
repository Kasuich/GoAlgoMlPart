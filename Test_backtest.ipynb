{
 "cells": [
  {
   "cell_type": "markdown",
   "metadata": {},
   "source": [
    "# Test NewBacktest"
   ]
  },
  {
   "cell_type": "code",
   "execution_count": 1,
   "metadata": {},
   "outputs": [],
   "source": [
    "from TrainModel import TrainModel\n",
    "from NewBacktest import NewBacktest"
   ]
  },
  {
   "cell_type": "code",
   "execution_count": 2,
   "metadata": {},
   "outputs": [],
   "source": [
    "tick = 'SBER'\n",
    "period = '1m'\n",
    "train_candles = 10_000\n",
    "backtest_candles = 1_000\n",
    "notebook = True"
   ]
  },
  {
   "cell_type": "code",
   "execution_count": 3,
   "metadata": {},
   "outputs": [
    {
     "name": "stdout",
     "output_type": "stream",
     "text": [
      "CatBoost RMSE score on validation set: 0.0007996563130113806\n",
      "Threshold from Xtest 0.00022458677924913363\n"
     ]
    }
   ],
   "source": [
    "features = {'lags': {'features': ['open', 'close', 'target'],\n",
    "                     'period': [1, 2, 3]},\n",
    "\n",
    "            'cma': {'features': ['open', 'close', 'volume']},\n",
    "\n",
    "            'sma': {'features': ['open', 'close', 'volume'],\n",
    "                    'period': [2, 3, 4]},\n",
    "\n",
    "            'ema': {'features': ['open', 'close', 'volume'],\n",
    "                    'period': [2, 3, 4]},\n",
    "\n",
    "            'green_candles_ratio': {'period': [2]},\n",
    "\n",
    "            'red_candles_ratio': {'period': [2]},\n",
    "\n",
    "            'rsi': False,\n",
    "\n",
    "            'macd': False, # только (12, 26)\n",
    "\n",
    "            'bollinger': False,\n",
    "\n",
    "            'time_features': {'month':True,\n",
    "                              'week':True,\n",
    "                              'day_of_month':True,\n",
    "                              'day_of_week':True,\n",
    "                              'hour':True,\n",
    "                              'minute': True},\n",
    "            'model': 'catboost'} # выбор один из 'lightgbm'\n",
    "\n",
    "\n",
    "\n",
    "train_model = TrainModel(features, tick, period, candles=train_candles, notebook=notebook)\n",
    "features = train_model.train() # возвращает новый features с порогом"
   ]
  },
  {
   "cell_type": "code",
   "execution_count": 4,
   "metadata": {},
   "outputs": [],
   "source": [
    "PART_OF_SUM_FOR_BUY = 0.1\n",
    "PERCENT_TRAILING = 6\n",
    "START_SUM = 100_000\n",
    "PERC_FOR_STOP = 1.01"
   ]
  },
  {
   "cell_type": "code",
   "execution_count": 5,
   "metadata": {},
   "outputs": [],
   "source": [
    "backtest = NewBacktest(\n",
    "    type=\"ml_model\",\n",
    "    ticker=tick,\n",
    "    timestamp=period,\n",
    "    part_of_sum_for_buy=PART_OF_SUM_FOR_BUY,\n",
    "    percent_trailing=PERCENT_TRAILING,\n",
    "    start_sum=START_SUM,\n",
    "    perc_for_stop=PERC_FOR_STOP,\n",
    "    model_features=features,\n",
    "    notebook=notebook,\n",
    ")"
   ]
  },
  {
   "cell_type": "code",
   "execution_count": 6,
   "metadata": {},
   "outputs": [
    {
     "name": "stderr",
     "output_type": "stream",
     "text": [
      "BokehDeprecationWarning: Passing lists of formats for DatetimeTickFormatter scales was deprecated in Bokeh 3.0. Configure a single string format for each scale\n",
      "BokehDeprecationWarning: Passing lists of formats for DatetimeTickFormatter scales was deprecated in Bokeh 3.0. Configure a single string format for each scale\n"
     ]
    }
   ],
   "source": [
    "outp = backtest.do_backtest(\n",
    "    candles=backtest_candles,\n",
    "    my_comission=0,\n",
    ")"
   ]
  },
  {
   "cell_type": "code",
   "execution_count": 7,
   "metadata": {},
   "outputs": [
    {
     "data": {
      "text/plain": [
       "Start                     2023-12-07 14:23:59\n",
       "End                       2023-12-08 17:30:59\n",
       "Duration                      1 days 03:07:00\n",
       "Exposure Time [%]                        99.8\n",
       "Equity Final [$]                   100235.301\n",
       "Equity Peak [$]                   100532.1174\n",
       "Return [%]                           0.235301\n",
       "Buy & Hold Return [%]               -0.196078\n",
       "Return (Ann.) [%]                   73.195083\n",
       "Volatility (Ann.) [%]                     NaN\n",
       "Sharpe Ratio                              NaN\n",
       "Sortino Ratio                             inf\n",
       "Calmar Ratio                        51.465731\n",
       "Max. Drawdown [%]                    -1.42221\n",
       "Avg. Drawdown [%]                   -0.306568\n",
       "Max. Drawdown Duration        1 days 01:19:00\n",
       "Avg. Drawdown Duration        0 days 03:51:00\n",
       "# Trades                                  630\n",
       "Win Rate [%]                        54.761905\n",
       "Best Trade [%]                       0.893025\n",
       "Worst Trade [%]                     -0.445586\n",
       "Avg. Trade [%]                       0.054485\n",
       "Max. Trade Duration           0 days 14:26:00\n",
       "Avg. Trade Duration           0 days 01:46:00\n",
       "Profit Factor                        1.590588\n",
       "Expectancy [%]                        0.05491\n",
       "SQN                                  1.087609\n",
       "_strategy                          MyStrategy\n",
       "_equity_curve                             ...\n",
       "_trades                        Size  Entry...\n",
       "dtype: object"
      ]
     },
     "execution_count": 7,
     "metadata": {},
     "output_type": "execute_result"
    }
   ],
   "source": [
    "outp"
   ]
  },
  {
   "cell_type": "code",
   "execution_count": 8,
   "metadata": {},
   "outputs": [],
   "source": [
    "IF_features_example = [\n",
    "     {\n",
    "                \"type\": \"if\",\n",
    "                \"feature\": \"average_cross\",\n",
    "                \"param\": {\n",
    "                    \"average_type\": \"ema\", # tp.Literal[\"ema\", \"sma\", \"cma\"],\n",
    "                    \"feature_name\": \"close\", # tp.Literal[\"close\", \"high\", \"low\", \"open\", \"value\", \"volume\", \"green_candles_ratio\", \"red_candles_ratio\"]\n",
    "                    \"n_fast\": 10, # tp.Literal[2, 5, 10, 15, 50, 100]\n",
    "                    \"n_slow\": 100, # tp.Literal[2, 5, 10, 15, 50, 100]\n",
    "                }\n",
    "    },\n",
    "]"
   ]
  },
  {
   "cell_type": "code",
   "execution_count": 9,
   "metadata": {},
   "outputs": [],
   "source": [
    "backtest_if = NewBacktest(\n",
    "    type=\"if_model\",\n",
    "    ticker=tick,\n",
    "    timestamp=period,\n",
    "    percent_trailing=PERCENT_TRAILING,\n",
    "    part_of_sum_for_buy=PART_OF_SUM_FOR_BUY,\n",
    "    start_sum=START_SUM,\n",
    "    perc_for_stop=PERC_FOR_STOP,\n",
    "    IF_features=IF_features_example,\n",
    "    notebook=True,\n",
    ")"
   ]
  },
  {
   "cell_type": "code",
   "execution_count": 10,
   "metadata": {},
   "outputs": [
    {
     "name": "stdout",
     "output_type": "stream",
     "text": [
      "Opening in existing browser session.\n"
     ]
    },
    {
     "name": "stderr",
     "output_type": "stream",
     "text": [
      "BokehDeprecationWarning: Passing lists of formats for DatetimeTickFormatter scales was deprecated in Bokeh 3.0. Configure a single string format for each scale\n",
      "BokehDeprecationWarning: Passing lists of formats for DatetimeTickFormatter scales was deprecated in Bokeh 3.0. Configure a single string format for each scale\n"
     ]
    },
    {
     "data": {
      "text/plain": [
       "Start                     2023-12-07 14:23:59\n",
       "End                       2023-12-08 17:30:59\n",
       "Duration                      1 days 03:07:00\n",
       "Exposure Time [%]                        99.8\n",
       "Equity Final [$]                   99892.8196\n",
       "Equity Peak [$]                     100547.99\n",
       "Return [%]                           -0.10718\n",
       "Buy & Hold Return [%]               -0.196078\n",
       "Return (Ann.) [%]                   32.876098\n",
       "Volatility (Ann.) [%]                     NaN\n",
       "Sharpe Ratio                              NaN\n",
       "Sortino Ratio                             inf\n",
       "Calmar Ratio                        17.251614\n",
       "Max. Drawdown [%]                   -1.905682\n",
       "Avg. Drawdown [%]                   -0.301978\n",
       "Max. Drawdown Duration        1 days 02:33:00\n",
       "Avg. Drawdown Duration        0 days 03:51:00\n",
       "# Trades                                  454\n",
       "Win Rate [%]                        38.325991\n",
       "Best Trade [%]                        0.66602\n",
       "Worst Trade [%]                     -0.598462\n",
       "Avg. Trade [%]                      -0.025842\n",
       "Max. Trade Duration           0 days 14:37:00\n",
       "Avg. Trade Duration           0 days 02:12:00\n",
       "Profit Factor                        0.841385\n",
       "Expectancy [%]                      -0.025319\n",
       "SQN                                  -0.42411\n",
       "_strategy                          MyStrategy\n",
       "_equity_curve                             ...\n",
       "_trades                        Size  Entry...\n",
       "dtype: object"
      ]
     },
     "execution_count": 10,
     "metadata": {},
     "output_type": "execute_result"
    },
    {
     "name": "stdout",
     "output_type": "stream",
     "text": [
      "Opening in existing browser session.\n"
     ]
    }
   ],
   "source": [
    "backtest_if.do_backtest(\n",
    "    candles=backtest_candles,\n",
    "    my_comission=0,\n",
    ")"
   ]
  },
  {
   "cell_type": "code",
   "execution_count": null,
   "metadata": {},
   "outputs": [],
   "source": []
  }
 ],
 "metadata": {
  "kernelspec": {
   "display_name": "main_env",
   "language": "python",
   "name": "python3"
  },
  "language_info": {
   "codemirror_mode": {
    "name": "ipython",
    "version": 3
   },
   "file_extension": ".py",
   "mimetype": "text/x-python",
   "name": "python",
   "nbconvert_exporter": "python",
   "pygments_lexer": "ipython3",
   "version": "3.11.5"
  }
 },
 "nbformat": 4,
 "nbformat_minor": 2
}
