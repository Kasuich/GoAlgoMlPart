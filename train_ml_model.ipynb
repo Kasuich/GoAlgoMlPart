{
 "cells": [
  {
   "cell_type": "markdown",
   "metadata": {},
   "source": [
    "# Демонстрация обучения модели"
   ]
  },
  {
   "cell_type": "code",
   "execution_count": 1,
   "metadata": {},
   "outputs": [],
   "source": [
    "from SimpleDataset import SimpleDataset\n",
    "from NewBacktest import NewBacktest\n",
    "import pandas as pd\n",
    "from TrainModel import TrainModel"
   ]
  },
  {
   "cell_type": "code",
   "execution_count": 2,
   "metadata": {},
   "outputs": [],
   "source": [
    "timestamp = \"1m\" # Гранулярность данных\n",
    "ticker = \"WUSH\" # Акция"
   ]
  },
  {
   "cell_type": "markdown",
   "metadata": {},
   "source": [
    "## Зададим признаки для обучения модели"
   ]
  },
  {
   "cell_type": "code",
   "execution_count": 3,
   "metadata": {},
   "outputs": [],
   "source": [
    "features = {'lags': {'features': ['open', 'close', 'target'], # Выбираем параметры и размеры лагов \n",
    "                     'period': [1, 2, 3]}, \n",
    "\n",
    "            'cma': {'features': ['open', 'close', 'volume']}, # Параметры для построение CMA (без таргета, чтобы избежать лика)\n",
    "\n",
    "            'sma': {'features': ['open', 'close', 'volume'], # Параметры для построения SMA (без таргета, чтобы избежать лика)\n",
    "                    'period': [2, 3, 4, 10, 100]},\n",
    "\n",
    "            'ema': {'features': ['open', 'close', 'volume'], # Параметры для построения EMA (без таргета, чтобы избежать лика)\n",
    "                    'period': [2, 3, 4, 10, 100]},\n",
    "\n",
    "            'green_candles_ratio': {'period': [2, 5, 7, 14]}, # Соотношение зеленых свечей и всех свечей на разных периодах\n",
    "\n",
    "            'red_candles_ratio': {'period': [2, 5, 7, 14]}, # Соотношение красынх свечей и всех свечей на разных периодаъ\n",
    "\n",
    "            'rsi': {'period': [5, 10, 15, 20]},  # Параметры для построения RSI на нескольких периодах\n",
    "\n",
    "            'macd': {'period': [(12, 26)]}, # только (12, 26) # Парамтеры для построения macd\n",
    "\n",
    "            'bollinger': {'period': 10, 'degree_of_lift': 2}, # Параметры для линий Боллинджера\n",
    "\n",
    "            'time_features': {'month':True, # Признаки времени\n",
    "                              'week':True,\n",
    "                              'day_of_month':True,\n",
    "                              'day_of_week':True,\n",
    "                              'hour':True,\n",
    "                              'minute': True},\n",
    "            'model': 'lighgbm'} # Выбираем модель для обучения"
   ]
  },
  {
   "cell_type": "markdown",
   "metadata": {},
   "source": [
    "## Обучение модели"
   ]
  },
  {
   "cell_type": "code",
   "execution_count": 4,
   "metadata": {},
   "outputs": [],
   "source": [
    "learner = TrainModel(\n",
    "    features=features,\n",
    "    ticker=ticker,\n",
    "    timeframe=timestamp,\n",
    "    model_id=\"test_model_id\",\n",
    "    notebook=True,\n",
    ")"
   ]
  },
  {
   "cell_type": "code",
   "execution_count": null,
   "metadata": {},
   "outputs": [
    {
     "name": "stdout",
     "output_type": "stream",
     "text": [
      "\u001b[1mtrain\u001b[0m\n",
      "Period from: 2023-11-14 to 2023-12-05\n",
      "Target mean: -6e-06\n",
      "Target std: 0.001361\n",
      "Target max: 0.022147\n",
      "Target min: -0.061096\n",
      "Shape of sample: (7920, 70)\n",
      "--------------------------------------------------------------------\n",
      "\u001b[1mvalid\u001b[0m\n",
      "Period from: 2023-12-05 to 2023-12-07\n",
      "Target mean: -3e-05\n",
      "Target std: 0.00115\n",
      "Target max: 0.008749\n",
      "Target min: -0.006386\n",
      "Shape of sample: (990, 70)\n",
      "--------------------------------------------------------------------\n",
      "\u001b[1mhold-out for backtest\u001b[0m\n",
      "Period from: 2023-12-07 to 2023-12-08\n",
      "Target mean: 1.4e-05\n",
      "Target std: 0.000766\n",
      "Target max: 0.006137\n",
      "Target min: -0.004492\n",
      "Shape of sample: (990, 70)\n",
      "--------------------------------------------------------------------\n",
      "CatBoost RMSE score on validation set: 0.001149724186321221\n",
      "Threshold from Xtest 3.855222190652169e-05\n"
     ]
    }
   ],
   "source": [
    "outp = learner.train()"
   ]
  },
  {
   "cell_type": "code",
   "execution_count": null,
   "metadata": {},
   "outputs": [],
   "source": [
    "df = SimpleDataset.create_dataset(\n",
    "    features=features,\n",
    "    ticker=ticker,\n",
    "    timeframe=timestamp,\n",
    "    notebook=True,\n",
    ")"
   ]
  },
  {
   "cell_type": "code",
   "execution_count": null,
   "metadata": {},
   "outputs": [
    {
     "name": "stdout",
     "output_type": "stream",
     "text": [
      "2023-12-08 18:47:59\n"
     ]
    }
   ],
   "source": [
    "print(df.date.max())"
   ]
  },
  {
   "cell_type": "code",
   "execution_count": null,
   "metadata": {},
   "outputs": [],
   "source": []
  }
 ],
 "metadata": {
  "kernelspec": {
   "display_name": "main_env",
   "language": "python",
   "name": "python3"
  },
  "language_info": {
   "codemirror_mode": {
    "name": "ipython",
    "version": 3
   },
   "file_extension": ".py",
   "mimetype": "text/x-python",
   "name": "python",
   "nbconvert_exporter": "python",
   "pygments_lexer": "ipython3",
   "version": "3.11.5"
  }
 },
 "nbformat": 4,
 "nbformat_minor": 2
}
